{
  "nbformat": 4,
  "nbformat_minor": 0,
  "metadata": {
    "colab": {
      "provenance": [],
      "collapsed_sections": []
    },
    "kernelspec": {
      "name": "python3",
      "display_name": "Python 3"
    },
    "language_info": {
      "name": "python"
    }
  },
  "cells": [
    {
      "cell_type": "code",
      "execution_count": 504,
      "metadata": {
        "id": "pi1sQD3y9Kat"
      },
      "outputs": [],
      "source": [
        "oracle_prices = {\"WEST\":0.04, \"EAST\":1, \"USD\":1, \"BTC\":1000}\n",
        "\n",
        "from collections import defaultdict\n",
        "\n",
        "tokens = {\n",
        "    \"sUSD\":{\"supply\":0, \"price\":oracle_prices[\"USD\"], \"balances\":defaultdict(int)},\n",
        "    \"sBTC\":{\"supply\":0, \"price\":oracle_prices[\"BTC\"], \"balances\":defaultdict(int)},\n",
        "    \"iBTC\":{\"supply\":0, \"price\":1 / oracle_prices[\"BTC\"], \"balances\":defaultdict(int)},\n",
        "    }\n",
        "\n",
        "def pull_prices_from_oracle():\n",
        "    tokens[\"sUSD\"][\"price\"] = oracle_prices[\"USD\"]\n",
        "    tokens[\"sBTC\"][\"price\"] = oracle_prices[\"BTC\"]\n",
        "    tokens[\"iBTC\"][\"price\"] = 1 / oracle_prices[\"BTC\"]\n",
        "\n",
        "def system_debt():\n",
        "    s = 0\n",
        "    for t in tokens:\n",
        "        s += tokens[t][\"supply\"] * tokens[t][\"price\"]\n",
        "    return s\n",
        "\n",
        "debt_share_supply = 0 # sum of all debt shares\n",
        "\n",
        "class UserPosition:\n",
        "    \n",
        "    def __init__(self, address):\n",
        "        self.balance_of_east = 0\n",
        "        self.balance_of_west = 0\n",
        "        self.debt_share = 0\n",
        "        #self.sbalances = {}\n",
        "        self.address = address\n",
        "\n",
        "    def deposit_collateral(self, east, west):\n",
        "        assert (east != 0 or west != 0)\n",
        "        self.balance_of_east += east\n",
        "        self.balance_of_west += west\n",
        "\n",
        "    @property\n",
        "    def value_of_collateral(self):\n",
        "        return self.balance_of_east * oracle_prices[\"EAST\"] + self.balance_of_west * oracle_prices[\"WEST\"]\n",
        "\n",
        "    def mint_susd(self, amount):\n",
        "        global system_debt\n",
        "        global debt_share_supply\n",
        "        global tokens\n",
        "        if self.value_of_collateral / amount < 5:\n",
        "            raise \"Can't mint, CRatio will be under 500%\"\n",
        "        else:\n",
        "            if system_debt() == 0:\n",
        "                self.debt_share = 1.0\n",
        "                debt_share_supply = 1.0\n",
        "            else:\n",
        "                self.debt_share += debt_share_supply * amount / system_debt()\n",
        "                debt_share_supply += debt_share_supply * amount / system_debt()\n",
        "            tokens[\"sUSD\"][\"supply\"] += amount\n",
        "            tokens[\"sUSD\"][\"balances\"][self.address] += amount\n",
        "\n",
        "    @property\n",
        "    def debt(self):\n",
        "        global system_debt\n",
        "        global debt_share_supply\n",
        "        return self.debt_share / debt_share_supply * system_debt()\n",
        "\n",
        "    @property\n",
        "    def c_ratio(self):\n",
        "        if self.debt == 0:\n",
        "            return None\n",
        "        else:\n",
        "            return self.value_of_collateral / self.debt\n",
        "\n",
        "    def burn_susd(self, amount):\n",
        "        global system_debt\n",
        "        global debt_share_supply\n",
        "        global tokens\n",
        "        if tokens[\"sUSD\"][\"balances\"][self.address] >= amount:\n",
        "            removed_debt_shares = debt_share_supply * amount / system_debt()\n",
        "            tokens[\"sUSD\"][\"balances\"][self.address] -= amount\n",
        "            tokens[\"sUSD\"][\"supply\"] -= amount\n",
        "            self.debt_share -= removed_debt_shares\n",
        "            debt_share_supply -= removed_debt_shares\n",
        "        else:\n",
        "            raise \"Not enough sUSD in wallet\"\n",
        "\n",
        "    def withdraw_collateral(self, east, west):\n",
        "        assert (east != 0 or west != 0)\n",
        "        if ((self.balance_of_west - west) * oracle_prices[\"WEST\"] + (self.balance_of_east - east) * oracle_prices[\"EAST\"]) / self.debt < 5:\n",
        "            raise \"Can't withdraw this much, CRatio will be under 500%\"\n",
        "        else:\n",
        "            self.balance_of_west -= west\n",
        "            self.balance_of_east -= east\n",
        "\n",
        "    def swap_synth(self, token1, amt1, token2): # sUSD 100 -> sBTC \n",
        "        global tokens\n",
        "        if tokens[token1][\"balances\"][self.address] >= amt1:\n",
        "            bought_amount = amt1 * tokens[token1][\"price\"] / tokens[token2][\"price\"]\n",
        "            tokens[token2][\"balances\"][self.address] += bought_amount\n",
        "            tokens[token1][\"balances\"][self.address] -= amt1\n",
        "            tokens[token2][\"supply\"] += bought_amount\n",
        "            tokens[token1][\"supply\"] -= amt1\n",
        "        else:\n",
        "          raise \"Not enough tokens\"\n",
        "\n",
        "    def liquidate(self, liquidator, susd_amount):\n",
        "        global debt_share_supply\n",
        "        global tokens\n",
        "        if susd_amount > tokens['sUSD']['balances'][liquidator]:\n",
        "            raise \"Not enough sUSD\"\n",
        "        if self.c_ratio <= 2:\n",
        "            liquidation_penalty = 0.3 # PENALTY 30% -- 5% to liquidator, 25% to treasury\n",
        "            needed_susd = (5 * self.debt - self.value_of_collateral) / (5 - (1 + liquidation_penalty)) # How much sUSD is needed to bring CRatio back to 500%\n",
        "            liquidator_reward_share = needed_susd * (1 + liquidation_penalty) / self.value_of_collateral\n",
        "            if susd_amount >= needed_susd:\n",
        "                print(f\"LIQUIDATION: {needed_susd} burned, {liquidator_reward_share * self.value_of_collateral}$ of {self.value_of_collateral}$ of collateral liquidated\")\n",
        "                removed_debt_shares = debt_share_supply * needed_susd / system_debt()\n",
        "                tokens['sUSD']['balances'][liquidator] -= needed_susd\n",
        "                tokens[\"sUSD\"][\"supply\"] -= needed_susd\n",
        "                self.balance_of_east -= liquidator_reward_share * self.balance_of_east # send 105/130 of it to liquidator, 25/130 to treasury\n",
        "                self.balance_of_west -= liquidator_reward_share * self.balance_of_west # send 105/130 of it to liquidator, 25/130 to treasury\n",
        "                self.debt_share -= removed_debt_shares\n",
        "                debt_share_supply -= removed_debt_shares\n",
        "            else:\n",
        "                raise \"Not enough sUSD to liquidate\"\n",
        "        else:\n",
        "            raise \"CRatio is healthy, can't liquidate\"\n",
        "\n",
        "    def print(self):\n",
        "        global system_debt\n",
        "        global tokens\n",
        "        print(\"Staked east:\", self.balance_of_east)\n",
        "        print(\"Staked west:\", self.balance_of_west)\n",
        "        print(\"Owned synths:\")\n",
        "        sval = 0\n",
        "        for t in tokens:\n",
        "            print(\" \",t, tokens[t][\"balances\"][self.address])\n",
        "            sval += tokens[t][\"balances\"][self.address] * tokens[t][\"price\"]\n",
        "        print(\"Owned synths value:\", sval)\n",
        "        print(\"Debt:\", self.debt)\n",
        "        #print(\"Debt share:\", self.debt_share)\n",
        "        print(\"CRatio:\", self.c_ratio)\n",
        "        if self.c_ratio<2: print(\"CAN BE LIQUIDATED\")"
      ]
    },
    {
      "cell_type": "code",
      "source": [
        "users = {\"address1\":UserPosition(\"address1\"), \"address2\":UserPosition(\"address2\")}"
      ],
      "metadata": {
        "id": "tAyHugOS_loe"
      },
      "execution_count": 505,
      "outputs": []
    },
    {
      "cell_type": "code",
      "source": [
        "users[\"address1\"].balance_of_east += 250000\n",
        "users[\"address1\"].mint_susd(50000)\n",
        "users[\"address1\"].swap_synth(\"sUSD\",50000,\"sBTC\")\n",
        "users[\"address1\"].print()"
      ],
      "metadata": {
        "colab": {
          "base_uri": "https://localhost:8080/"
        },
        "id": "soCYK5twlwv2",
        "outputId": "77c25c81-d82f-41a8-d9b9-5086e27e26da"
      },
      "execution_count": 506,
      "outputs": [
        {
          "output_type": "stream",
          "name": "stdout",
          "text": [
            "Staked east: 250000\n",
            "Staked west: 0\n",
            "Owned synths:\n",
            "  sUSD 0\n",
            "  sBTC 50.0\n",
            "  iBTC 0\n",
            "Owned synths value: 50000.0\n",
            "Debt: 50000.0\n",
            "CRatio: 5.0\n"
          ]
        }
      ]
    },
    {
      "cell_type": "code",
      "source": [
        "users[\"address2\"].balance_of_east += 250000\n",
        "users[\"address2\"].mint_susd(50000)\n",
        "users[\"address2\"].print()"
      ],
      "metadata": {
        "colab": {
          "base_uri": "https://localhost:8080/"
        },
        "id": "dF5-Yejx3J8T",
        "outputId": "b9594bbe-60ad-4280-a774-2b76ec2327df"
      },
      "execution_count": 507,
      "outputs": [
        {
          "output_type": "stream",
          "name": "stdout",
          "text": [
            "Staked east: 250000\n",
            "Staked west: 0\n",
            "Owned synths:\n",
            "  sUSD 50000\n",
            "  sBTC 0\n",
            "  iBTC 0\n",
            "Owned synths value: 50000.0\n",
            "Debt: 50000.0\n",
            "CRatio: 5.0\n"
          ]
        }
      ]
    },
    {
      "cell_type": "code",
      "source": [
        "oracle_prices[\"BTC\"] = 5000\n",
        "pull_prices_from_oracle()\n",
        "users[\"address1\"].print()\n",
        "print()\n",
        "users[\"address2\"].print()"
      ],
      "metadata": {
        "colab": {
          "base_uri": "https://localhost:8080/"
        },
        "id": "JF4Tq7s5FC-7",
        "outputId": "a2a543e3-3fc8-4174-e551-ddf50baf0385"
      },
      "execution_count": 508,
      "outputs": [
        {
          "output_type": "stream",
          "name": "stdout",
          "text": [
            "Staked east: 250000\n",
            "Staked west: 0\n",
            "Owned synths:\n",
            "  sUSD 0\n",
            "  sBTC 50.0\n",
            "  iBTC 0\n",
            "Owned synths value: 250000.0\n",
            "Debt: 150000.0\n",
            "CRatio: 1.6666666666666667\n",
            "CAN BE LIQUIDATED\n",
            "\n",
            "Staked east: 250000\n",
            "Staked west: 0\n",
            "Owned synths:\n",
            "  sUSD 50000\n",
            "  sBTC 0\n",
            "  iBTC 0\n",
            "Owned synths value: 50000.0\n",
            "Debt: 150000.0\n",
            "CRatio: 1.6666666666666667\n",
            "CAN BE LIQUIDATED\n"
          ]
        }
      ]
    },
    {
      "cell_type": "code",
      "source": [
        "users[\"address2\"].balance_of_east += 2500000\n",
        "users[\"address2\"].mint_susd(500000)\n",
        "users[\"address1\"].liquidate(liquidator = \"address2\", susd_amount=300000)\n",
        "print()\n",
        "users[\"address1\"].print()\n",
        "print()\n",
        "users[\"address2\"].print()"
      ],
      "metadata": {
        "colab": {
          "base_uri": "https://localhost:8080/"
        },
        "id": "O0P8QtimEMoG",
        "outputId": "fc0e25cd-218e-4f1e-c7d4-02abf2abff2c"
      },
      "execution_count": 509,
      "outputs": [
        {
          "output_type": "stream",
          "name": "stdout",
          "text": [
            "LIQUIDATION: 135135.1351351351 burned, 175675.67567567562$ of 250000.0$ of collateral liquidated\n",
            "\n",
            "Staked east: 74324.32432432438\n",
            "Staked west: 0.0\n",
            "Owned synths:\n",
            "  sUSD 0\n",
            "  sBTC 50.0\n",
            "  iBTC 0\n",
            "Owned synths value: 250000.0\n",
            "Debt: 14864.864864864892\n",
            "CRatio: 4.999999999999995\n",
            "\n",
            "Staked east: 2750000\n",
            "Staked west: 0\n",
            "Owned synths:\n",
            "  sUSD 414864.8648648649\n",
            "  sBTC 0\n",
            "  iBTC 0\n",
            "Owned synths value: 414864.8648648649\n",
            "Debt: 649999.9999999999\n",
            "CRatio: 4.230769230769232\n"
          ]
        }
      ]
    },
    {
      "cell_type": "code",
      "source": [],
      "metadata": {
        "id": "e0-npGtdZDei"
      },
      "execution_count": 503,
      "outputs": []
    }
  ]
}